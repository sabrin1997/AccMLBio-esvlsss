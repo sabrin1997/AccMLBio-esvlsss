{
 "cells": [
  {
   "cell_type": "markdown",
   "id": "ab9b45f0-6b0a-4901-ad55-57ea1911afb7",
   "metadata": {},
   "source": [
    "Semi-supervised surgery pipeline with SEMAFOVI and SCANVI.\n",
    "Changes and adaptations are made to the original pipeline in scArches created by:\n",
    "\n",
    "Lotfollahi, M., Naghipourfar, M., Luecken, M. D., Khajavi,\n",
    "M., B  ̈uttner, M., Wagenstetter, M., Avsec, ˇZ., Gayoso,\n",
    "A., Yosef, N., Interlandi, M., et al. Mapping single-cell\n",
    "data to reference atlases by transfer learning. Nature\n",
    "Biotechnology, pp. 1–10, 2021\n",
    "\n",
    "For the original pipeline information, see: https://docs.scarches.org/en/latest/scanvi_surgery_pipeline.html#"
   ]
  },
  {
   "cell_type": "code",
   "execution_count": null,
   "id": "12d6a0da-26f2-4392-99ec-f43b9223be2a",
   "metadata": {},
   "outputs": [],
   "source": [
    "try:\n",
    "    from nbproject import header\n",
    "    header()\n",
    "except ModuleNotFoundError:\n",
    "    print(\"If you want to see the header with dependencies, please install nbproject - pip install nbproject\")"
   ]
  },
  {
   "cell_type": "code",
   "execution_count": null,
   "id": "ec1920a0-a45d-46d1-a017-0aba201bf350",
   "metadata": {},
   "outputs": [],
   "source": [
    "import os\n",
    "os.chdir('../')\n",
    "import warnings\n",
    "warnings.simplefilter(action='ignore', category=FutureWarning)\n",
    "warnings.simplefilter(action='ignore', category=UserWarning)"
   ]
  },
  {
   "cell_type": "code",
   "execution_count": null,
   "id": "e0fcfc4f-6bb7-4c31-b81d-669995b8757a",
   "metadata": {},
   "outputs": [],
   "source": [
    "import sys\n",
    "sys.path.append('path of the modified scvi project')\n",
    "from scvi.model import SCVI\n",
    "from scvi.model import SCANVI\n",
    "from scvi.model import SEMAFOVI"
   ]
  },
  {
   "cell_type": "code",
   "execution_count": null,
   "id": "c6b9a392-f52b-41cf-bde6-46dbd6f31923",
   "metadata": {},
   "outputs": [],
   "source": [
    "import scanpy as sc\n",
    "import torch\n",
    "import scarches as sca\n",
    "from scarches.dataset.trvae.data_handling import remove_sparsity\n",
    "import matplotlib.pyplot as plt\n",
    "import numpy as np\n",
    "import gdown"
   ]
  },
  {
   "cell_type": "code",
   "execution_count": null,
   "id": "41fa3fe0-1d56-45b3-a4df-ef64a416ee0e",
   "metadata": {},
   "outputs": [],
   "source": [
    "sc.settings.set_figure_params(dpi=200, frameon=False)\n",
    "sc.set_figure_params(dpi=200)\n",
    "sc.set_figure_params(figsize=(4, 4))\n",
    "torch.set_printoptions(precision=3, sci_mode=False, edgeitems=7)"
   ]
  },
  {
   "cell_type": "markdown",
   "id": "c679ae2e-dad1-4621-b60b-82cd2762997e",
   "metadata": {},
   "source": [
    "Set relevant anndata.obs labels and training length"
   ]
  },
  {
   "cell_type": "markdown",
   "id": "301f762a-0304-4bd7-857b-8972ec19fb12",
   "metadata": {},
   "source": [
    "In this pipeline the pancreas scRNA-seq data were utilized to explain the training process, the same procedure also works for the bone marrow human cell atlas scRNA-seq data or any kind of scRNA-seq data in similar structure to the two datasets mentioned above.\n",
    "For the bone marrow human cell atlas scRNA-seq data, please see:\n",
    "https://openreview.net/forum?id=gN35BGa1Rt"
   ]
  },
  {
   "cell_type": "code",
   "execution_count": null,
   "id": "67fc8457-14db-433a-9bb5-149c23bb96f9",
   "metadata": {},
   "outputs": [],
   "source": [
    "condition_key = 'study'\n",
    "cell_type_key = 'cell_type'\n",
    "target_conditions = ['Pancreas CelSeq2','Pancreas inDrop', 'Pancreas SS2']"
   ]
  },
  {
   "cell_type": "code",
   "execution_count": null,
   "id": "4fd13e3b-5309-46e6-bba7-9deb38f407ce",
   "metadata": {},
   "outputs": [],
   "source": [
    "import anndata as ad"
   ]
  },
  {
   "cell_type": "code",
   "execution_count": null,
   "id": "f1ee6bba-6871-4d85-9886-e50c91503e01",
   "metadata": {},
   "outputs": [],
   "source": [
    "url = 'https://drive.google.com/uc?id=1ehxgfHTsMZXy6YzlFKGJOsBKQ5rrvMnd' #this is provided in the original pipeline\n",
    "output = 'pancreas.h5ad'\n",
    "gdown.download(url, output, quiet=False)"
   ]
  },
  {
   "cell_type": "code",
   "execution_count": null,
   "id": "58b8daf6-0d0f-47e8-af9c-c9242b1d6e9c",
   "metadata": {},
   "outputs": [],
   "source": [
    "adata_all = ad.read_h5ad('pancreas.h5ad')"
   ]
  },
  {
   "cell_type": "code",
   "execution_count": null,
   "id": "4ac56d32-5827-47c0-93c0-46c8f1a8193b",
   "metadata": {},
   "outputs": [],
   "source": [
    "adata_all.obs.study.unique().tolist()"
   ]
  },
  {
   "cell_type": "code",
   "execution_count": null,
   "id": "e23b3862-a6d1-404a-b831-d91e1356cd95",
   "metadata": {},
   "outputs": [],
   "source": [
    "pancreas_inDrop = adata_all[adata_all.obs['study'] == 'Pancreas inDrop']\n",
    "pancreas_CelSeq2 = adata_all[adata_all.obs['study'] == 'Pancreas CelSeq2']\n",
    "pancreas_CelSeq = adata_all[adata_all.obs['study'] == 'Pancreas CelSeq']\n",
    "pancreas_Fluidigm_C1 = adata_all[adata_all.obs['study'] == 'Pancreas Fluidigm C1']\n",
    "pancreas_SS2 = adata_all[adata_all.obs['study'] == 'Pancreas SS2']"
   ]
  },
  {
   "cell_type": "code",
   "execution_count": null,
   "id": "3c9f351b-b0d9-4671-9b2c-1ca62ab4b332",
   "metadata": {},
   "outputs": [],
   "source": [
    "num_observations = pancreas_inDrop.n_obs\n",
    "print(f\"Number of observations for 'pancreas_inDrop': {num_observations}\")\n",
    "num_observations = pancreas_CelSeq2.n_obs\n",
    "print(f\"Number of observations for 'pancreas_CelSeq2': {num_observations}\")\n",
    "num_observations = pancreas_CelSeq.n_obs\n",
    "print(f\"Number of observations for 'pancreas_CelSeq': {num_observations}\")\n",
    "num_observations = pancreas_Fluidigm_C1.n_obs\n",
    "print(f\"Number of observations for 'pancreas_Fluidigm C1': {num_observations}\")\n",
    "num_observations = pancreas_SS2.n_obs\n",
    "print(f\"Number of observations for 'pancreas_SS2': {num_observations}\")"
   ]
  },
  {
   "cell_type": "code",
   "execution_count": null,
   "id": "b6b47611-8653-4ae7-9b0b-f30d0e49a3ef",
   "metadata": {},
   "outputs": [],
   "source": [
    "adata = adata_all.raw.to_adata()\n",
    "adata = remove_sparsity(adata)\n",
    "source_adata = adata[~adata.obs[condition_key].isin(target_conditions)].copy()\n",
    "target_adata = adata[adata.obs[condition_key].isin(target_conditions)].copy()"
   ]
  },
  {
   "cell_type": "code",
   "execution_count": null,
   "id": "6eb85b23-2909-41ea-8fc6-f652ec3e4b5d",
   "metadata": {},
   "outputs": [],
   "source": [
    "source_adata"
   ]
  },
  {
   "cell_type": "code",
   "execution_count": null,
   "id": "ab297588-f509-403d-a304-b376f1c3f92d",
   "metadata": {},
   "outputs": [],
   "source": [
    "target_adata"
   ]
  },
  {
   "cell_type": "markdown",
   "id": "f939ffef-3d80-4057-b1f9-4718c5eaefed",
   "metadata": {},
   "source": [
    "Create SCANVI/SEMAFOVI model and train it on fully labelled reference dataset"
   ]
  },
  {
   "cell_type": "code",
   "execution_count": null,
   "id": "63ad0b5a-b765-4beb-96f4-e467ba10102b",
   "metadata": {},
   "outputs": [],
   "source": [
    "SCVI.setup_anndata(source_adata, batch_key=condition_key, labels_key=cell_type_key)"
   ]
  },
  {
   "cell_type": "code",
   "execution_count": null,
   "id": "032ed329-78f2-448e-b984-4bc93d185909",
   "metadata": {},
   "outputs": [],
   "source": [
    "vae = SCVI(\n",
    "    source_adata,\n",
    "    n_layers=2,\n",
    "    encode_covariates=True,\n",
    "    deeply_inject_covariates=False,\n",
    "    use_layer_norm=\"both\",\n",
    "    use_batch_norm=\"none\",\n",
    ")"
   ]
  },
  {
   "cell_type": "code",
   "execution_count": null,
   "id": "cf0666cd-2b1e-4d3c-8707-c6f2ff105262",
   "metadata": {},
   "outputs": [],
   "source": [
    "vae.train()"
   ]
  },
  {
   "cell_type": "code",
   "execution_count": null,
   "id": "4af8c82e-e571-493a-837d-b9d7ddcb085b",
   "metadata": {
    "scrolled": true
   },
   "outputs": [],
   "source": [
    "vae.save(\"path for saved models\", overwrite=True)"
   ]
  },
  {
   "cell_type": "code",
   "execution_count": null,
   "id": "95e8ec2c-9e63-4854-b32a-fbd89a9cf092",
   "metadata": {},
   "outputs": [],
   "source": [
    "loaded_vae = SCVI.load(\"path for saved models\", adata = source_adata)"
   ]
  },
  {
   "cell_type": "markdown",
   "id": "4a4ab409-0cd3-42e1-ada2-a3abc9708105",
   "metadata": {},
   "source": [
    "Choose VAE to initialize"
   ]
  },
  {
   "cell_type": "code",
   "execution_count": null,
   "id": "89f75bdc-87ac-4400-9d34-dbed6e508a49",
   "metadata": {},
   "outputs": [],
   "source": [
    "scanvae = SCANVI.from_scvi_model(loaded_vae, unlabeled_category = \"Unknown\")"
   ]
  },
  {
   "cell_type": "code",
   "execution_count": null,
   "id": "7d0328e8-8402-4a99-bc6c-ae31e5a14717",
   "metadata": {},
   "outputs": [],
   "source": [
    "semafovae = SEMAFOVI.from_scvi_model(loaded_vae, unlabeled_category = \"Unknown\")"
   ]
  },
  {
   "cell_type": "code",
   "execution_count": null,
   "id": "1549f15e-13c2-42f2-a2d4-e1be3ce87dac",
   "metadata": {},
   "outputs": [],
   "source": [
    "print(\"Labelled Indices: \", len(semafovae._labeled_indices)) # or scanvae\n",
    "print(\"Unlabelled Indices: \", len(semafovae._unlabeled_indices))"
   ]
  },
  {
   "cell_type": "markdown",
   "id": "b5693386-2924-40bb-ad70-29a49fc5bb21",
   "metadata": {},
   "source": [
    "Choose VAE to train"
   ]
  },
  {
   "cell_type": "code",
   "execution_count": null,
   "id": "2aafdb6f-6f67-46e4-ae3d-ea1a0f995722",
   "metadata": {},
   "outputs": [],
   "source": [
    "scanvae.train(max_epochs=20)"
   ]
  },
  {
   "cell_type": "code",
   "execution_count": null,
   "id": "42439815-ae38-4865-b2d4-028043a95924",
   "metadata": {},
   "outputs": [],
   "source": [
    "semafovae.train(max_epochs=20)"
   ]
  },
  {
   "cell_type": "markdown",
   "id": "00acd7f3-b181-481a-bb0c-c219cab3ce7e",
   "metadata": {},
   "source": [
    "Create anndata file of latent representation and compute UMAP"
   ]
  },
  {
   "cell_type": "code",
   "execution_count": null,
   "id": "a46ff680-afa5-460b-a9a0-7205dcf4f684",
   "metadata": {},
   "outputs": [],
   "source": [
    "reference_latent = sc.AnnData(scanvae.get_latent_representation()) # or scanvae\n",
    "reference_latent.obs[\"cell_type\"] = source_adata.obs[cell_type_key].tolist()\n",
    "reference_latent.obs[\"batch\"] = source_adata.obs[condition_key].tolist()"
   ]
  },
  {
   "cell_type": "code",
   "execution_count": null,
   "id": "ed80e059-f6b2-4128-80b6-4664d9c0e4e9",
   "metadata": {},
   "outputs": [],
   "source": [
    "reference_latent.obs['predictions'] = scanvae.predict() # or scanvae\n",
    "print(\"Acc: {}\".format(np.mean(reference_latent.obs.predictions == reference_latent.obs.cell_type)))"
   ]
  },
  {
   "cell_type": "markdown",
   "id": "f67de005-f4cf-491b-b180-a62c2c428da5",
   "metadata": {},
   "source": [
    "Perform surgery on reference model and train on query dataset without cell type labels"
   ]
  },
  {
   "cell_type": "code",
   "execution_count": null,
   "id": "79e6bf30-9a62-4288-ba73-e2af60841707",
   "metadata": {},
   "outputs": [],
   "source": [
    "model = SCANVI.load_query_data(  # SCANVI/SEMAFOVI\n",
    "    target_adata,\n",
    "    scanvae,  #  scanvae/semafovae\n",
    "    freeze_dropout = True,\n",
    ")\n",
    "#adjust the labeld and unlabeled groups in here.\n",
    "model._unlabeled_indices = np.where(target_adata.obs[condition_key] == 'Pancreas CelSeq2')[0]\n",
    "model._labeled_indices = np.where((target_adata.obs[condition_key] == 'Pancreas inDrop')| (target_adata.obs[condition_key] == 'Pancreas SS2'))[0]  \n",
    "#model._unlabeled_indices = np.arange(target_adata.n_obs)\n",
    "#model._labeled_indices = []\n",
    "print(\"Labelled Indices: \", len(model._labeled_indices))\n",
    "print(\"Unlabelled Indices: \", len(model._unlabeled_indices))"
   ]
  },
  {
   "cell_type": "code",
   "execution_count": null,
   "id": "58c0c95f-0962-41ae-b81f-a1108239b0fd",
   "metadata": {},
   "outputs": [],
   "source": [
    "model.train(\n",
    "    max_epochs=100,\n",
    "    plan_kwargs=dict(weight_decay=0.0),\n",
    "    check_val_every_n_epoch=10,\n",
    ")"
   ]
  },
  {
   "cell_type": "code",
   "execution_count": null,
   "id": "9b3271b4-3a9b-4ca6-9dac-e5a9d844f642",
   "metadata": {},
   "outputs": [],
   "source": [
    "query_latent = sc.AnnData(model.get_latent_representation())\n",
    "query_latent.obs['cell_type'] = target_adata.obs[cell_type_key].tolist()\n",
    "query_latent.obs['batch'] = target_adata.obs[condition_key].tolist()"
   ]
  },
  {
   "cell_type": "code",
   "execution_count": null,
   "id": "8d089e12-b50a-4e77-9746-4099e7ee6b43",
   "metadata": {},
   "outputs": [],
   "source": [
    "query_latent.obs['predictions'] = model.predict()\n",
    "print(\"Acc: {}\".format(np.mean(query_latent.obs.predictions == query_latent.obs.cell_type)))"
   ]
  },
  {
   "cell_type": "code",
   "execution_count": null,
   "id": "23b3982a-f80e-4a2d-8f3a-a31cb6f5aced",
   "metadata": {},
   "outputs": [],
   "source": [
    "sc.pp.neighbors(query_latent)\n",
    "sc.tl.leiden(query_latent)\n",
    "sc.tl.umap(query_latent)\n",
    "plt.figure()\n",
    "sc.pl.umap(\n",
    "    query_latent,\n",
    "    color=[\"cell_type\", \"predictions\"],\n",
    "    frameon=False,\n",
    "    wspace=0.6,\n",
    ")"
   ]
  },
  {
   "cell_type": "markdown",
   "id": "3d82fa0c-6241-4f44-9c09-1da49bab847c",
   "metadata": {},
   "source": [
    "compute the other numerical measurement metrics"
   ]
  },
  {
   "cell_type": "code",
   "execution_count": null,
   "id": "dbe0bd61-d7d6-41e9-97e8-037cc6417517",
   "metadata": {},
   "outputs": [],
   "source": [
    "from sklearn.metrics import (\n",
    "f1_score, cohen_kappa_score, balanced_accuracy_score\n",
    ")\n",
    "\n",
    "# true labels and predicted labels\n",
    "true_labels = query_latent.obs.cell_type\n",
    "predicted_labels = query_latent.obs['predictions']\n",
    "\n",
    "# Calculate F1 score for multi-class classification\n",
    "f1 = f1_score(true_labels, predicted_labels, average='weighted')\n",
    "\n",
    "# Calculate Cohen's Kappa\n",
    "kappa = cohen_kappa_score(true_labels, predicted_labels)\n",
    "\n",
    "# Calculate Balanced Accuracy\n",
    "balanced_acc = balanced_accuracy_score(true_labels, predicted_labels)\n",
    "\n",
    "# Print the results\n",
    "print(f\"F1 Score: {f1}\")\n",
    "print(f\"Cohen’s Kappa: {kappa}\")\n",
    "print(f\"Balanced Accuracy: {balanced_acc}\")"
   ]
  },
  {
   "cell_type": "markdown",
   "id": "4faaf999-a8c6-43d0-a46b-545a4afe1f35",
   "metadata": {},
   "source": [
    "Compute Accuracy of model classifier for query dataset and compare predicted and observed cell types"
   ]
  },
  {
   "cell_type": "code",
   "execution_count": null,
   "id": "949990d7-3482-4095-8876-20f7b3de043d",
   "metadata": {},
   "outputs": [],
   "source": [
    "df = query_latent.obs.groupby([\"cell_type\", \"predictions\"]).size().unstack(fill_value=0)\n",
    "norm_df = df / df.sum(axis=0)\n",
    "\n",
    "plt.figure(figsize=(8, 8))\n",
    "_ = plt.pcolor(norm_df)\n",
    "_ = plt.xticks(np.arange(0.5, len(df.columns), 1), df.columns, rotation=90)\n",
    "_ = plt.yticks(np.arange(0.5, len(df.index), 1), df.index)\n",
    "plt.xlabel(\"Predicted\")\n",
    "plt.ylabel(\"Observed\")\n",
    "plt.tight_layout()\n",
    "plt.colorbar()\n",
    "# plt.savefig('path where the plotted picture needs to be saved')"
   ]
  }
 ],
 "metadata": {
  "kernelspec": {
   "display_name": "Python 3 (ipykernel)",
   "language": "python",
   "name": "python3"
  },
  "language_info": {
   "codemirror_mode": {
    "name": "ipython",
    "version": 3
   },
   "file_extension": ".py",
   "mimetype": "text/x-python",
   "name": "python",
   "nbconvert_exporter": "python",
   "pygments_lexer": "ipython3",
   "version": "3.12.0"
  },
  "nbproject": {
   "id": "zMHXXFMxUeFy",
   "parent": null,
   "pypackage": null,
   "time_init": "2024-03-09T19:31:40.890084+00:00",
   "user_handle": null,
   "user_id": null,
   "user_name": null,
   "version": "1"
  }
 },
 "nbformat": 4,
 "nbformat_minor": 5
}
